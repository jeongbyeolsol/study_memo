{
 "cells": [
  {
   "cell_type": "code",
   "execution_count": 1,
   "id": "5f71ffee-c6ba-4429-a099-b684ccb165bc",
   "metadata": {},
   "outputs": [],
   "source": [
    "import numpy as np\n",
    "import pandas as pd"
   ]
  },
  {
   "cell_type": "code",
   "execution_count": 3,
   "id": "0a4807b4-bc63-41d6-8304-a988569f60ef",
   "metadata": {},
   "outputs": [
    {
     "name": "stdout",
     "output_type": "stream",
     "text": [
      "               price          \n",
      "                 min max  mean\n",
      "country points                \n",
      "France  88        30  30  30.0\n",
      "        92        45  45  45.0\n",
      "Italy   90        38  38  38.0\n",
      "US      85        15  15  15.0\n",
      "        90        20  20  20.0\n"
     ]
    }
   ],
   "source": [
    "df = pd.DataFrame({\n",
    "    'country': ['US', 'US', 'France', 'France', 'Italy'],\n",
    "    'points': [90, 85, 88, 92, 90],\n",
    "    'price': [20, 15, 30, 45, 38]\n",
    "})\n",
    "\n",
    "print(df.groupby(['country', 'points']).agg(['min', 'max', 'mean']))"
   ]
  }
 ],
 "metadata": {
  "kernelspec": {
   "display_name": "Python 3 (ipykernel)",
   "language": "python",
   "name": "python3"
  },
  "language_info": {
   "codemirror_mode": {
    "name": "ipython",
    "version": 3
   },
   "file_extension": ".py",
   "mimetype": "text/x-python",
   "name": "python",
   "nbconvert_exporter": "python",
   "pygments_lexer": "ipython3",
   "version": "3.10.12"
  }
 },
 "nbformat": 4,
 "nbformat_minor": 5
}
